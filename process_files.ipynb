{
 "cells": [
  {
   "cell_type": "code",
   "execution_count": 7,
   "metadata": {},
   "outputs": [
    {
     "name": "stdout",
     "output_type": "stream",
     "text": [
      "Requirement already satisfied: razdel in c:\\anaconda\\lib\\site-packages (0.5.0)\n"
     ]
    },
    {
     "name": "stderr",
     "output_type": "stream",
     "text": [
      "WARNING: Ignoring invalid distribution -umpy (c:\\anaconda\\lib\\site-packages)\n",
      "WARNING: Ignoring invalid distribution -umpy (c:\\anaconda\\lib\\site-packages)\n",
      "WARNING: Ignoring invalid distribution -umpy (c:\\anaconda\\lib\\site-packages)\n",
      "WARNING: Ignoring invalid distribution -umpy (c:\\anaconda\\lib\\site-packages)\n",
      "WARNING: Ignoring invalid distribution -umpy (c:\\anaconda\\lib\\site-packages)\n",
      "WARNING: Ignoring invalid distribution -umpy (c:\\anaconda\\lib\\site-packages)\n",
      "WARNING: You are using pip version 21.1.1; however, version 21.1.2 is available.\n",
      "You should consider upgrading via the 'c:\\anaconda\\python.exe -m pip install --upgrade pip' command.\n"
     ]
    }
   ],
   "source": [
    "#!pip install razdel"
   ]
  },
  {
   "cell_type": "code",
   "execution_count": 1,
   "metadata": {},
   "outputs": [],
   "source": [
    "import spacy\n",
    "from razdel import tokenize, sentenize\n",
    "import os\n",
    "import pickle\n",
    "import numpy as np\n",
    "import gensim\n",
    "import urllib.request\n",
    "from gensim.models import Word2Vec, KeyedVectors\n",
    "from gensim.models.callbacks import CallbackAny2Vec\n",
    "import operator\n",
    "import pymorphy2\n",
    "import re\n",
    "import nltk\n",
    "from tqdm.auto import tqdm\n",
    "from typing import List\n",
    "\n",
    "\n",
    "stopwords = nltk.corpus.stopwords.words(\"russian\")\n",
    "morph = pymorphy2.MorphAnalyzer()"
   ]
  },
  {
   "cell_type": "code",
   "execution_count": 2,
   "metadata": {},
   "outputs": [],
   "source": [
    "pos_tag_ud = {\n",
    "    'ADJF': 'ADJ',\n",
    "    'ADJS': 'ADJ',\n",
    "\n",
    "    'ADVB': 'ADV',\n",
    "    'COMP': 'ADV',\n",
    "    'PRED': 'ADV',\n",
    "\n",
    "    'VERB': 'VERB',\n",
    "    'GRND': 'VERB',\n",
    "    'INFN': 'VERB',\n",
    "    'PRTF': 'VERB',\n",
    "    'PRTS': 'VERB',\n",
    "\n",
    "    'NOUN': 'NOUN',\n",
    "    'NPRO': 'PRON',\n",
    "\n",
    "    'NUMR': 'NUM',\n",
    "    'NUMB': 'NUM',\n",
    "\n",
    "    'Apro': 'DET',\n",
    "    'CONJ': 'CCONJ',\n",
    "    'INTJ': 'INTJ',\n",
    "    'PART': 'PRCL',\n",
    "    'PNCT': 'PUNCT',\n",
    "    'PRCL': 'PART',\n",
    "    'PREP': 'ADP',\n",
    "    \n",
    "}\n",
    "\n",
    "\n",
    "def preprocess(sentence: str) -> list:\n",
    "    #  get tokens of russian words\n",
    "    sentence = sentence.lower()\n",
    "    tokens = list(tokenize(sentence))\n",
    "    tokens = [_.text for _ in tokens if not re.search(r'[^а-яА-ЯёЁ]', _.text)]\n",
    "    \n",
    "    #  pos-tagging\n",
    "    new_sent = []\n",
    "    for token in tokens:\n",
    "        token_p = morph.parse(token)[0]\n",
    "        \n",
    "        if 'UNKN' in token_p.tag:\n",
    "            pos = 'UNKN'\n",
    "        else:\n",
    "            pos = pos_tag_ud[token_p.tag.POS]\n",
    "\n",
    "        new_t =  f'{token_p.normal_form}_{pos}'\n",
    "        if token_p.normal_form not in stopwords:\n",
    "            new_sent.append(new_t)\n",
    "    return new_sent\n",
    "\n",
    "\n",
    "def get_all_tokens(document_name: str) -> List[List]:\n",
    "    #  open file\n",
    "    with open(document_name, 'r', encoding='utf-8') as f:\n",
    "        document = f.read()\n",
    "    \n",
    "    #  separate dor sentences and get pos-tagged tokens\n",
    "    sents = [_.text for _ in list(sentenize(document))]\n",
    "    document_data = []\n",
    "    for sent in tqdm(sents):\n",
    "        tokens = preprocess(sent)\n",
    "        document_data.append(tokens)\n",
    "    return document_data"
   ]
  },
  {
   "cell_type": "code",
   "execution_count": 3,
   "metadata": {},
   "outputs": [],
   "source": [
    "def preprocess_files(periods: list, side: ['loyal', 'opp']):   \n",
    "    for period in periods:\n",
    "        print(f'Processing files for year {period}')\n",
    "        all_period_tokens = []  \n",
    "        dir_path = f'./data/{period}/{side}/'\n",
    "        \n",
    "        for filename in os.listdir(dir_path):\n",
    "            processed_file = get_all_tokens(dir_path+filename)  #  list of lists for every sentence\n",
    "            all_period_tokens.extend(processed_file)\n",
    "            \n",
    "        #  write all processed sentences in one file\n",
    "        processed_filename = f'./processed/{side}_{period}.txt'\n",
    "        with open(processed_filename, 'w', encoding='utf-8') as file:\n",
    "            for sentence in all_period_tokens:\n",
    "                file.write(' '.join(sentence)+'\\n')\n",
    "             "
   ]
  },
  {
   "cell_type": "code",
   "execution_count": 5,
   "metadata": {},
   "outputs": [
    {
     "name": "stdout",
     "output_type": "stream",
     "text": [
      "Processing files for year 2015\n"
     ]
    },
    {
     "data": {
      "application/vnd.jupyter.widget-view+json": {
       "model_id": "a4815613a2a44729a23327bee5dd5922",
       "version_major": 2,
       "version_minor": 0
      },
      "text/plain": [
       "HBox(children=(HTML(value=''), FloatProgress(value=0.0, max=17511.0), HTML(value='')))"
      ]
     },
     "metadata": {},
     "output_type": "display_data"
    },
    {
     "name": "stdout",
     "output_type": "stream",
     "text": [
      "\n"
     ]
    },
    {
     "data": {
      "application/vnd.jupyter.widget-view+json": {
       "model_id": "41b9243d2fca45bf856acc74a354114f",
       "version_major": 2,
       "version_minor": 0
      },
      "text/plain": [
       "HBox(children=(HTML(value=''), FloatProgress(value=0.0, max=905107.0), HTML(value='')))"
      ]
     },
     "metadata": {},
     "output_type": "display_data"
    },
    {
     "name": "stdout",
     "output_type": "stream",
     "text": [
      "\n"
     ]
    },
    {
     "data": {
      "application/vnd.jupyter.widget-view+json": {
       "model_id": "59f458a7185a4503bd1e88fe55f9052d",
       "version_major": 2,
       "version_minor": 0
      },
      "text/plain": [
       "HBox(children=(HTML(value=''), FloatProgress(value=0.0, max=135972.0), HTML(value='')))"
      ]
     },
     "metadata": {},
     "output_type": "display_data"
    },
    {
     "name": "stdout",
     "output_type": "stream",
     "text": [
      "\n",
      "Processing files for year 2016\n"
     ]
    },
    {
     "data": {
      "application/vnd.jupyter.widget-view+json": {
       "model_id": "8c1e1e5b3cc44e9e94b42604178ac1ce",
       "version_major": 2,
       "version_minor": 0
      },
      "text/plain": [
       "HBox(children=(HTML(value=''), FloatProgress(value=0.0, max=18122.0), HTML(value='')))"
      ]
     },
     "metadata": {},
     "output_type": "display_data"
    },
    {
     "name": "stdout",
     "output_type": "stream",
     "text": [
      "\n"
     ]
    },
    {
     "data": {
      "application/vnd.jupyter.widget-view+json": {
       "model_id": "a84c2e571c6d464c86a690366180a4a2",
       "version_major": 2,
       "version_minor": 0
      },
      "text/plain": [
       "HBox(children=(HTML(value=''), FloatProgress(value=0.0, max=132922.0), HTML(value='')))"
      ]
     },
     "metadata": {},
     "output_type": "display_data"
    },
    {
     "name": "stdout",
     "output_type": "stream",
     "text": [
      "\n"
     ]
    },
    {
     "data": {
      "application/vnd.jupyter.widget-view+json": {
       "model_id": "2b92178278ac4d7eb9b6cfb3e21090c6",
       "version_major": 2,
       "version_minor": 0
      },
      "text/plain": [
       "HBox(children=(HTML(value=''), FloatProgress(value=0.0, max=62733.0), HTML(value='')))"
      ]
     },
     "metadata": {},
     "output_type": "display_data"
    },
    {
     "name": "stdout",
     "output_type": "stream",
     "text": [
      "\n",
      "Processing files for year 2017\n"
     ]
    },
    {
     "data": {
      "application/vnd.jupyter.widget-view+json": {
       "model_id": "a0326fb600fc40c9adf86302779ca91f",
       "version_major": 2,
       "version_minor": 0
      },
      "text/plain": [
       "HBox(children=(HTML(value=''), FloatProgress(value=0.0, max=12883.0), HTML(value='')))"
      ]
     },
     "metadata": {},
     "output_type": "display_data"
    },
    {
     "name": "stdout",
     "output_type": "stream",
     "text": [
      "\n"
     ]
    },
    {
     "data": {
      "application/vnd.jupyter.widget-view+json": {
       "model_id": "39fff5e91ad749ddbf945f35f2a35d70",
       "version_major": 2,
       "version_minor": 0
      },
      "text/plain": [
       "HBox(children=(HTML(value=''), FloatProgress(value=0.0, max=208279.0), HTML(value='')))"
      ]
     },
     "metadata": {},
     "output_type": "display_data"
    },
    {
     "name": "stdout",
     "output_type": "stream",
     "text": [
      "\n"
     ]
    },
    {
     "data": {
      "application/vnd.jupyter.widget-view+json": {
       "model_id": "d2d3ec08e5464f8ab690870b4e9dc423",
       "version_major": 2,
       "version_minor": 0
      },
      "text/plain": [
       "HBox(children=(HTML(value=''), FloatProgress(value=0.0, max=582474.0), HTML(value='')))"
      ]
     },
     "metadata": {},
     "output_type": "display_data"
    },
    {
     "name": "stdout",
     "output_type": "stream",
     "text": [
      "\n",
      "Processing files for year 2018\n"
     ]
    },
    {
     "data": {
      "application/vnd.jupyter.widget-view+json": {
       "model_id": "38996609c35040ac9d850c23bcbd45a8",
       "version_major": 2,
       "version_minor": 0
      },
      "text/plain": [
       "HBox(children=(HTML(value=''), FloatProgress(value=0.0, max=12445.0), HTML(value='')))"
      ]
     },
     "metadata": {},
     "output_type": "display_data"
    },
    {
     "name": "stdout",
     "output_type": "stream",
     "text": [
      "\n"
     ]
    },
    {
     "data": {
      "application/vnd.jupyter.widget-view+json": {
       "model_id": "9a49d2d75821406da305c32a254c398f",
       "version_major": 2,
       "version_minor": 0
      },
      "text/plain": [
       "HBox(children=(HTML(value=''), FloatProgress(value=0.0, max=445826.0), HTML(value='')))"
      ]
     },
     "metadata": {},
     "output_type": "display_data"
    },
    {
     "name": "stdout",
     "output_type": "stream",
     "text": [
      "\n",
      "Processing files for year 2019\n"
     ]
    },
    {
     "data": {
      "application/vnd.jupyter.widget-view+json": {
       "model_id": "34e93bc46bf042a68b6de0442de677d7",
       "version_major": 2,
       "version_minor": 0
      },
      "text/plain": [
       "HBox(children=(HTML(value=''), FloatProgress(value=0.0, max=60528.0), HTML(value='')))"
      ]
     },
     "metadata": {},
     "output_type": "display_data"
    },
    {
     "name": "stdout",
     "output_type": "stream",
     "text": [
      "\n"
     ]
    },
    {
     "data": {
      "application/vnd.jupyter.widget-view+json": {
       "model_id": "eb55be2f296a41afbdd711ddf9884dea",
       "version_major": 2,
       "version_minor": 0
      },
      "text/plain": [
       "HBox(children=(HTML(value=''), FloatProgress(value=0.0, max=89704.0), HTML(value='')))"
      ]
     },
     "metadata": {},
     "output_type": "display_data"
    },
    {
     "name": "stdout",
     "output_type": "stream",
     "text": [
      "\n"
     ]
    }
   ],
   "source": [
    "periods = ['2015', '2016', '2017', '2018', '2019']\n",
    "#periods = ['2018', '2019']\n",
    "\n",
    "\n",
    "#  directory for processed files\n",
    "try:\n",
    "    os.mkdir('./processed/')\n",
    "except FileExistsError:\n",
    "    # directory already exists\n",
    "    pass\n",
    "\n",
    "preprocess_files(periods, side='loyal')"
   ]
  },
  {
   "cell_type": "code",
   "execution_count": null,
   "metadata": {},
   "outputs": [],
   "source": []
  }
 ],
 "metadata": {
  "kernelspec": {
   "display_name": "Python 3",
   "language": "python",
   "name": "python3"
  },
  "language_info": {
   "codemirror_mode": {
    "name": "ipython",
    "version": 3
   },
   "file_extension": ".py",
   "mimetype": "text/x-python",
   "name": "python",
   "nbconvert_exporter": "python",
   "pygments_lexer": "ipython3",
   "version": "3.7.3"
  }
 },
 "nbformat": 4,
 "nbformat_minor": 2
}
