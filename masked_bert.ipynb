{
  "nbformat": 4,
  "nbformat_minor": 0,
  "metadata": {
    "colab": {
      "name": "shiftry_masked_bert.ipynb",
      "provenance": [],
      "collapsed_sections": []
    },
    "kernelspec": {
      "name": "python3",
      "display_name": "Python 3"
    },
    "language_info": {
      "name": "python"
    },
    "accelerator": "GPU",
    "widgets": {
      "application/vnd.jupyter.widget-state+json": {
        "1653f721fa6748f594e72fca90dbf09e": {
          "model_module": "@jupyter-widgets/controls",
          "model_name": "HBoxModel",
          "state": {
            "_view_name": "HBoxView",
            "_dom_classes": [],
            "_model_name": "HBoxModel",
            "_view_module": "@jupyter-widgets/controls",
            "_model_module_version": "1.5.0",
            "_view_count": null,
            "_view_module_version": "1.5.0",
            "box_style": "",
            "layout": "IPY_MODEL_16aec77188a94f519c2658c73af6c730",
            "_model_module": "@jupyter-widgets/controls",
            "children": [
              "IPY_MODEL_2544b7d6e0574520abbcc0ab12da9dba",
              "IPY_MODEL_b6c81ba2a33c469e9457466ce9bd3cba"
            ]
          }
        },
        "16aec77188a94f519c2658c73af6c730": {
          "model_module": "@jupyter-widgets/base",
          "model_name": "LayoutModel",
          "state": {
            "_view_name": "LayoutView",
            "grid_template_rows": null,
            "right": null,
            "justify_content": null,
            "_view_module": "@jupyter-widgets/base",
            "overflow": null,
            "_model_module_version": "1.2.0",
            "_view_count": null,
            "flex_flow": null,
            "width": null,
            "min_width": null,
            "border": null,
            "align_items": null,
            "bottom": null,
            "_model_module": "@jupyter-widgets/base",
            "top": null,
            "grid_column": null,
            "overflow_y": null,
            "overflow_x": null,
            "grid_auto_flow": null,
            "grid_area": null,
            "grid_template_columns": null,
            "flex": null,
            "_model_name": "LayoutModel",
            "justify_items": null,
            "grid_row": null,
            "max_height": null,
            "align_content": null,
            "visibility": null,
            "align_self": null,
            "height": null,
            "min_height": null,
            "padding": null,
            "grid_auto_rows": null,
            "grid_gap": null,
            "max_width": null,
            "order": null,
            "_view_module_version": "1.2.0",
            "grid_template_areas": null,
            "object_position": null,
            "object_fit": null,
            "grid_auto_columns": null,
            "margin": null,
            "display": null,
            "left": null
          }
        },
        "2544b7d6e0574520abbcc0ab12da9dba": {
          "model_module": "@jupyter-widgets/controls",
          "model_name": "FloatProgressModel",
          "state": {
            "_view_name": "ProgressView",
            "style": "IPY_MODEL_3f65c1e9568e40f09ca1f69fb9a8246b",
            "_dom_classes": [],
            "description": "100%",
            "_model_name": "FloatProgressModel",
            "bar_style": "success",
            "max": 56428,
            "_view_module": "@jupyter-widgets/controls",
            "_model_module_version": "1.5.0",
            "value": 56428,
            "_view_count": null,
            "_view_module_version": "1.5.0",
            "orientation": "horizontal",
            "min": 0,
            "description_tooltip": null,
            "_model_module": "@jupyter-widgets/controls",
            "layout": "IPY_MODEL_798b9c5f0f6449929998ad27f926a510"
          }
        },
        "b6c81ba2a33c469e9457466ce9bd3cba": {
          "model_module": "@jupyter-widgets/controls",
          "model_name": "HTMLModel",
          "state": {
            "_view_name": "HTMLView",
            "style": "IPY_MODEL_ce02b7e80245456a87a8d0b2225b19e5",
            "_dom_classes": [],
            "description": "",
            "_model_name": "HTMLModel",
            "placeholder": "​",
            "_view_module": "@jupyter-widgets/controls",
            "_model_module_version": "1.5.0",
            "value": " 56428/56428 [00:04&lt;00:00, 11963.58it/s]",
            "_view_count": null,
            "_view_module_version": "1.5.0",
            "description_tooltip": null,
            "_model_module": "@jupyter-widgets/controls",
            "layout": "IPY_MODEL_57b3d5fef7a44705904eaa5019cc89a4"
          }
        },
        "3f65c1e9568e40f09ca1f69fb9a8246b": {
          "model_module": "@jupyter-widgets/controls",
          "model_name": "ProgressStyleModel",
          "state": {
            "_view_name": "StyleView",
            "_model_name": "ProgressStyleModel",
            "description_width": "initial",
            "_view_module": "@jupyter-widgets/base",
            "_model_module_version": "1.5.0",
            "_view_count": null,
            "_view_module_version": "1.2.0",
            "bar_color": null,
            "_model_module": "@jupyter-widgets/controls"
          }
        },
        "798b9c5f0f6449929998ad27f926a510": {
          "model_module": "@jupyter-widgets/base",
          "model_name": "LayoutModel",
          "state": {
            "_view_name": "LayoutView",
            "grid_template_rows": null,
            "right": null,
            "justify_content": null,
            "_view_module": "@jupyter-widgets/base",
            "overflow": null,
            "_model_module_version": "1.2.0",
            "_view_count": null,
            "flex_flow": null,
            "width": null,
            "min_width": null,
            "border": null,
            "align_items": null,
            "bottom": null,
            "_model_module": "@jupyter-widgets/base",
            "top": null,
            "grid_column": null,
            "overflow_y": null,
            "overflow_x": null,
            "grid_auto_flow": null,
            "grid_area": null,
            "grid_template_columns": null,
            "flex": null,
            "_model_name": "LayoutModel",
            "justify_items": null,
            "grid_row": null,
            "max_height": null,
            "align_content": null,
            "visibility": null,
            "align_self": null,
            "height": null,
            "min_height": null,
            "padding": null,
            "grid_auto_rows": null,
            "grid_gap": null,
            "max_width": null,
            "order": null,
            "_view_module_version": "1.2.0",
            "grid_template_areas": null,
            "object_position": null,
            "object_fit": null,
            "grid_auto_columns": null,
            "margin": null,
            "display": null,
            "left": null
          }
        },
        "ce02b7e80245456a87a8d0b2225b19e5": {
          "model_module": "@jupyter-widgets/controls",
          "model_name": "DescriptionStyleModel",
          "state": {
            "_view_name": "StyleView",
            "_model_name": "DescriptionStyleModel",
            "description_width": "",
            "_view_module": "@jupyter-widgets/base",
            "_model_module_version": "1.5.0",
            "_view_count": null,
            "_view_module_version": "1.2.0",
            "_model_module": "@jupyter-widgets/controls"
          }
        },
        "57b3d5fef7a44705904eaa5019cc89a4": {
          "model_module": "@jupyter-widgets/base",
          "model_name": "LayoutModel",
          "state": {
            "_view_name": "LayoutView",
            "grid_template_rows": null,
            "right": null,
            "justify_content": null,
            "_view_module": "@jupyter-widgets/base",
            "overflow": null,
            "_model_module_version": "1.2.0",
            "_view_count": null,
            "flex_flow": null,
            "width": null,
            "min_width": null,
            "border": null,
            "align_items": null,
            "bottom": null,
            "_model_module": "@jupyter-widgets/base",
            "top": null,
            "grid_column": null,
            "overflow_y": null,
            "overflow_x": null,
            "grid_auto_flow": null,
            "grid_area": null,
            "grid_template_columns": null,
            "flex": null,
            "_model_name": "LayoutModel",
            "justify_items": null,
            "grid_row": null,
            "max_height": null,
            "align_content": null,
            "visibility": null,
            "align_self": null,
            "height": null,
            "min_height": null,
            "padding": null,
            "grid_auto_rows": null,
            "grid_gap": null,
            "max_width": null,
            "order": null,
            "_view_module_version": "1.2.0",
            "grid_template_areas": null,
            "object_position": null,
            "object_fit": null,
            "grid_auto_columns": null,
            "margin": null,
            "display": null,
            "left": null
          }
        },
        "5664da86668a49989ca8842eb5006444": {
          "model_module": "@jupyter-widgets/controls",
          "model_name": "HBoxModel",
          "state": {
            "_view_name": "HBoxView",
            "_dom_classes": [],
            "_model_name": "HBoxModel",
            "_view_module": "@jupyter-widgets/controls",
            "_model_module_version": "1.5.0",
            "_view_count": null,
            "_view_module_version": "1.5.0",
            "box_style": "",
            "layout": "IPY_MODEL_566d7019cffc4aaba3479bfa7afeadff",
            "_model_module": "@jupyter-widgets/controls",
            "children": [
              "IPY_MODEL_fd7bf772910b4650a4eed6c4a2a8686c",
              "IPY_MODEL_b2d3767c0e6942a2a6a058f28d085321"
            ]
          }
        },
        "566d7019cffc4aaba3479bfa7afeadff": {
          "model_module": "@jupyter-widgets/base",
          "model_name": "LayoutModel",
          "state": {
            "_view_name": "LayoutView",
            "grid_template_rows": null,
            "right": null,
            "justify_content": null,
            "_view_module": "@jupyter-widgets/base",
            "overflow": null,
            "_model_module_version": "1.2.0",
            "_view_count": null,
            "flex_flow": null,
            "width": null,
            "min_width": null,
            "border": null,
            "align_items": null,
            "bottom": null,
            "_model_module": "@jupyter-widgets/base",
            "top": null,
            "grid_column": null,
            "overflow_y": null,
            "overflow_x": null,
            "grid_auto_flow": null,
            "grid_area": null,
            "grid_template_columns": null,
            "flex": null,
            "_model_name": "LayoutModel",
            "justify_items": null,
            "grid_row": null,
            "max_height": null,
            "align_content": null,
            "visibility": null,
            "align_self": null,
            "height": null,
            "min_height": null,
            "padding": null,
            "grid_auto_rows": null,
            "grid_gap": null,
            "max_width": null,
            "order": null,
            "_view_module_version": "1.2.0",
            "grid_template_areas": null,
            "object_position": null,
            "object_fit": null,
            "grid_auto_columns": null,
            "margin": null,
            "display": null,
            "left": null
          }
        },
        "fd7bf772910b4650a4eed6c4a2a8686c": {
          "model_module": "@jupyter-widgets/controls",
          "model_name": "FloatProgressModel",
          "state": {
            "_view_name": "ProgressView",
            "style": "IPY_MODEL_c3bd2e5c7e2b401e8489412a4c6752ae",
            "_dom_classes": [],
            "description": "Epoch 0: 100%",
            "_model_name": "FloatProgressModel",
            "bar_style": "success",
            "max": 3527,
            "_view_module": "@jupyter-widgets/controls",
            "_model_module_version": "1.5.0",
            "value": 3527,
            "_view_count": null,
            "_view_module_version": "1.5.0",
            "orientation": "horizontal",
            "min": 0,
            "description_tooltip": null,
            "_model_module": "@jupyter-widgets/controls",
            "layout": "IPY_MODEL_e65421092e5f4601b61f1320fbccbd50"
          }
        },
        "b2d3767c0e6942a2a6a058f28d085321": {
          "model_module": "@jupyter-widgets/controls",
          "model_name": "HTMLModel",
          "state": {
            "_view_name": "HTMLView",
            "style": "IPY_MODEL_b55b4f6dd9bb4bb2bd38309d2ce7942f",
            "_dom_classes": [],
            "description": "",
            "_model_name": "HTMLModel",
            "placeholder": "​",
            "_view_module": "@jupyter-widgets/controls",
            "_model_module_version": "1.5.0",
            "value": " 3527/3527 [39:57&lt;00:00,  1.47it/s, loss=0.045]",
            "_view_count": null,
            "_view_module_version": "1.5.0",
            "description_tooltip": null,
            "_model_module": "@jupyter-widgets/controls",
            "layout": "IPY_MODEL_4e5d745e376748b28843c893c97ffa5c"
          }
        },
        "c3bd2e5c7e2b401e8489412a4c6752ae": {
          "model_module": "@jupyter-widgets/controls",
          "model_name": "ProgressStyleModel",
          "state": {
            "_view_name": "StyleView",
            "_model_name": "ProgressStyleModel",
            "description_width": "initial",
            "_view_module": "@jupyter-widgets/base",
            "_model_module_version": "1.5.0",
            "_view_count": null,
            "_view_module_version": "1.2.0",
            "bar_color": null,
            "_model_module": "@jupyter-widgets/controls"
          }
        },
        "e65421092e5f4601b61f1320fbccbd50": {
          "model_module": "@jupyter-widgets/base",
          "model_name": "LayoutModel",
          "state": {
            "_view_name": "LayoutView",
            "grid_template_rows": null,
            "right": null,
            "justify_content": null,
            "_view_module": "@jupyter-widgets/base",
            "overflow": null,
            "_model_module_version": "1.2.0",
            "_view_count": null,
            "flex_flow": null,
            "width": null,
            "min_width": null,
            "border": null,
            "align_items": null,
            "bottom": null,
            "_model_module": "@jupyter-widgets/base",
            "top": null,
            "grid_column": null,
            "overflow_y": null,
            "overflow_x": null,
            "grid_auto_flow": null,
            "grid_area": null,
            "grid_template_columns": null,
            "flex": null,
            "_model_name": "LayoutModel",
            "justify_items": null,
            "grid_row": null,
            "max_height": null,
            "align_content": null,
            "visibility": null,
            "align_self": null,
            "height": null,
            "min_height": null,
            "padding": null,
            "grid_auto_rows": null,
            "grid_gap": null,
            "max_width": null,
            "order": null,
            "_view_module_version": "1.2.0",
            "grid_template_areas": null,
            "object_position": null,
            "object_fit": null,
            "grid_auto_columns": null,
            "margin": null,
            "display": null,
            "left": null
          }
        },
        "b55b4f6dd9bb4bb2bd38309d2ce7942f": {
          "model_module": "@jupyter-widgets/controls",
          "model_name": "DescriptionStyleModel",
          "state": {
            "_view_name": "StyleView",
            "_model_name": "DescriptionStyleModel",
            "description_width": "",
            "_view_module": "@jupyter-widgets/base",
            "_model_module_version": "1.5.0",
            "_view_count": null,
            "_view_module_version": "1.2.0",
            "_model_module": "@jupyter-widgets/controls"
          }
        },
        "4e5d745e376748b28843c893c97ffa5c": {
          "model_module": "@jupyter-widgets/base",
          "model_name": "LayoutModel",
          "state": {
            "_view_name": "LayoutView",
            "grid_template_rows": null,
            "right": null,
            "justify_content": null,
            "_view_module": "@jupyter-widgets/base",
            "overflow": null,
            "_model_module_version": "1.2.0",
            "_view_count": null,
            "flex_flow": null,
            "width": null,
            "min_width": null,
            "border": null,
            "align_items": null,
            "bottom": null,
            "_model_module": "@jupyter-widgets/base",
            "top": null,
            "grid_column": null,
            "overflow_y": null,
            "overflow_x": null,
            "grid_auto_flow": null,
            "grid_area": null,
            "grid_template_columns": null,
            "flex": null,
            "_model_name": "LayoutModel",
            "justify_items": null,
            "grid_row": null,
            "max_height": null,
            "align_content": null,
            "visibility": null,
            "align_self": null,
            "height": null,
            "min_height": null,
            "padding": null,
            "grid_auto_rows": null,
            "grid_gap": null,
            "max_width": null,
            "order": null,
            "_view_module_version": "1.2.0",
            "grid_template_areas": null,
            "object_position": null,
            "object_fit": null,
            "grid_auto_columns": null,
            "margin": null,
            "display": null,
            "left": null
          }
        }
      }
    }
  },
  "cells": [
    {
      "cell_type": "markdown",
      "metadata": {
        "id": "OzhWVkfwNdcX"
      },
      "source": [
        "## Устанавливаем библиотеку и скачиваем предобученную модель"
      ]
    },
    {
      "cell_type": "code",
      "metadata": {
        "id": "Gn2BFtFKjaht",
        "colab": {
          "base_uri": "https://localhost:8080/"
        },
        "outputId": "6fdc8075-8e90-4541-8458-dcfa7b4f1d9b"
      },
      "source": [
        "!pip install transformers"
      ],
      "execution_count": 1,
      "outputs": [
        {
          "output_type": "stream",
          "text": [
            "Collecting transformers\n",
            "\u001b[?25l  Downloading https://files.pythonhosted.org/packages/b5/d5/c6c23ad75491467a9a84e526ef2364e523d45e2b0fae28a7cbe8689e7e84/transformers-4.8.1-py3-none-any.whl (2.5MB)\n",
            "\u001b[K     |████████████████████████████████| 2.5MB 7.7MB/s \n",
            "\u001b[?25hRequirement already satisfied: regex!=2019.12.17 in /usr/local/lib/python3.7/dist-packages (from transformers) (2019.12.20)\n",
            "Requirement already satisfied: filelock in /usr/local/lib/python3.7/dist-packages (from transformers) (3.0.12)\n",
            "Collecting tokenizers<0.11,>=0.10.1\n",
            "\u001b[?25l  Downloading https://files.pythonhosted.org/packages/d4/e2/df3543e8ffdab68f5acc73f613de9c2b155ac47f162e725dcac87c521c11/tokenizers-0.10.3-cp37-cp37m-manylinux_2_5_x86_64.manylinux1_x86_64.manylinux_2_12_x86_64.manylinux2010_x86_64.whl (3.3MB)\n",
            "\u001b[K     |████████████████████████████████| 3.3MB 50.1MB/s \n",
            "\u001b[?25hRequirement already satisfied: importlib-metadata; python_version < \"3.8\" in /usr/local/lib/python3.7/dist-packages (from transformers) (4.5.0)\n",
            "Requirement already satisfied: packaging in /usr/local/lib/python3.7/dist-packages (from transformers) (20.9)\n",
            "Requirement already satisfied: requests in /usr/local/lib/python3.7/dist-packages (from transformers) (2.23.0)\n",
            "Collecting huggingface-hub==0.0.12\n",
            "  Downloading https://files.pythonhosted.org/packages/2f/ee/97e253668fda9b17e968b3f97b2f8e53aa0127e8807d24a547687423fe0b/huggingface_hub-0.0.12-py3-none-any.whl\n",
            "Requirement already satisfied: pyyaml in /usr/local/lib/python3.7/dist-packages (from transformers) (3.13)\n",
            "Collecting sacremoses\n",
            "\u001b[?25l  Downloading https://files.pythonhosted.org/packages/75/ee/67241dc87f266093c533a2d4d3d69438e57d7a90abb216fa076e7d475d4a/sacremoses-0.0.45-py3-none-any.whl (895kB)\n",
            "\u001b[K     |████████████████████████████████| 901kB 36.5MB/s \n",
            "\u001b[?25hRequirement already satisfied: tqdm>=4.27 in /usr/local/lib/python3.7/dist-packages (from transformers) (4.41.1)\n",
            "Requirement already satisfied: numpy>=1.17 in /usr/local/lib/python3.7/dist-packages (from transformers) (1.19.5)\n",
            "Requirement already satisfied: typing-extensions>=3.6.4; python_version < \"3.8\" in /usr/local/lib/python3.7/dist-packages (from importlib-metadata; python_version < \"3.8\"->transformers) (3.7.4.3)\n",
            "Requirement already satisfied: zipp>=0.5 in /usr/local/lib/python3.7/dist-packages (from importlib-metadata; python_version < \"3.8\"->transformers) (3.4.1)\n",
            "Requirement already satisfied: pyparsing>=2.0.2 in /usr/local/lib/python3.7/dist-packages (from packaging->transformers) (2.4.7)\n",
            "Requirement already satisfied: idna<3,>=2.5 in /usr/local/lib/python3.7/dist-packages (from requests->transformers) (2.10)\n",
            "Requirement already satisfied: urllib3!=1.25.0,!=1.25.1,<1.26,>=1.21.1 in /usr/local/lib/python3.7/dist-packages (from requests->transformers) (1.24.3)\n",
            "Requirement already satisfied: chardet<4,>=3.0.2 in /usr/local/lib/python3.7/dist-packages (from requests->transformers) (3.0.4)\n",
            "Requirement already satisfied: certifi>=2017.4.17 in /usr/local/lib/python3.7/dist-packages (from requests->transformers) (2021.5.30)\n",
            "Requirement already satisfied: six in /usr/local/lib/python3.7/dist-packages (from sacremoses->transformers) (1.15.0)\n",
            "Requirement already satisfied: joblib in /usr/local/lib/python3.7/dist-packages (from sacremoses->transformers) (1.0.1)\n",
            "Requirement already satisfied: click in /usr/local/lib/python3.7/dist-packages (from sacremoses->transformers) (7.1.2)\n",
            "Installing collected packages: tokenizers, huggingface-hub, sacremoses, transformers\n",
            "Successfully installed huggingface-hub-0.0.12 sacremoses-0.0.45 tokenizers-0.10.3 transformers-4.8.1\n"
          ],
          "name": "stdout"
        }
      ]
    },
    {
      "cell_type": "code",
      "metadata": {
        "id": "xXW90fz_AE6U",
        "colab": {
          "base_uri": "https://localhost:8080/"
        },
        "outputId": "4a65ec26-b347-4b72-92e5-e28969a725d2"
      },
      "source": [
        "!wget -c http://files.deeppavlov.ai/deeppavlov_data/bert/rubert_cased_L-12_H-768_A-12_pt.tar.gz\n",
        "!tar -zxf rubert_cased_L-12_H-768_A-12_pt.tar.gz\n",
        "!cp rubert_cased_L-12_H-768_A-12_pt/bert_config.json rubert_cased_L-12_H-768_A-12_pt/config.json\n"
      ],
      "execution_count": 2,
      "outputs": [
        {
          "output_type": "stream",
          "text": [
            "--2021-06-27 06:15:39--  http://files.deeppavlov.ai/deeppavlov_data/bert/rubert_cased_L-12_H-768_A-12_pt.tar.gz\n",
            "Resolving files.deeppavlov.ai (files.deeppavlov.ai)... 93.175.29.74\n",
            "Connecting to files.deeppavlov.ai (files.deeppavlov.ai)|93.175.29.74|:80... connected.\n",
            "HTTP request sent, awaiting response... 301 Moved Permanently\n",
            "Location: https://files.deeppavlov.ai/deeppavlov_data/bert/rubert_cased_L-12_H-768_A-12_pt.tar.gz [following]\n",
            "--2021-06-27 06:15:40--  https://files.deeppavlov.ai/deeppavlov_data/bert/rubert_cased_L-12_H-768_A-12_pt.tar.gz\n",
            "Connecting to files.deeppavlov.ai (files.deeppavlov.ai)|93.175.29.74|:443... connected.\n",
            "HTTP request sent, awaiting response... 200 OK\n",
            "Length: 662024852 (631M) [application/octet-stream]\n",
            "Saving to: ‘rubert_cased_L-12_H-768_A-12_pt.tar.gz’\n",
            "\n",
            "rubert_cased_L-12_H 100%[===================>] 631.36M  5.48MB/s    in 2m 10s  \n",
            "\n",
            "2021-06-27 06:17:51 (4.87 MB/s) - ‘rubert_cased_L-12_H-768_A-12_pt.tar.gz’ saved [662024852/662024852]\n",
            "\n"
          ],
          "name": "stdout"
        }
      ]
    },
    {
      "cell_type": "markdown",
      "metadata": {
        "id": "W1lJEoxBNp6w"
      },
      "source": [
        "## Предобработка - удалить pos-тэги, добавить нужные тэги, токенизировать, частично маскировать и получить бертовские индексы\n"
      ]
    },
    {
      "cell_type": "code",
      "metadata": {
        "id": "4FfybdqIIYmf"
      },
      "source": [
        "import transformers\n",
        "from tqdm.auto import tqdm\n",
        "import torch\n",
        "from transformers import AdamW\n"
      ],
      "execution_count": 3,
      "outputs": []
    },
    {
      "cell_type": "code",
      "metadata": {
        "id": "G4wdkX-QKPYD"
      },
      "source": [
        "from random import sample\n",
        "def preproc(text):\n",
        "  tokenizer = transformers.BertTokenizerFast.from_pretrained('rubert_cased_L-12_H-768_A-12_pt')\n",
        "  sents_tagged = text.split('\\n') #делим на предложения\n",
        "  sents = []\n",
        "  for sent in tqdm(sents_tagged): #уберем теги\n",
        "    new_sent = ''\n",
        "    for word in sent.split():\n",
        "      new_sent += word.split('_')[0] + ' '\n",
        "    sents.append(new_sent[:-1])\n",
        "\n",
        "  sents = sents[:70000]\n",
        "  inputs = tokenizer(sents, return_tensors='pt', max_length=100, \\\n",
        "                   truncation=True, padding='max_length')\n",
        "\n",
        "  inputs['labels'] = inputs.input_ids.detach().clone()\n",
        "  rand = torch.rand(inputs.input_ids.shape)\n",
        "    # create mask array\n",
        "  mask_arr = (rand < 0.15) * (inputs.input_ids != 101) * \\\n",
        "           (inputs.input_ids != 102) * (inputs.input_ids != 0)\n",
        "\n",
        "  selection = []\n",
        "\n",
        "  for i in range(inputs.input_ids.shape[0]):\n",
        "    selection.append(\n",
        "      torch.flatten(mask_arr[i].nonzero()).tolist()\n",
        "    )\n",
        "  for i in range(inputs.input_ids.shape[0]):\n",
        "    inputs.input_ids[i, selection[i]] = 103\n",
        "\n",
        "  return inputs"
      ],
      "execution_count": 4,
      "outputs": []
    },
    {
      "cell_type": "markdown",
      "metadata": {
        "id": "u4bfR7vZN_RF"
      },
      "source": [
        "## Класс датасета для обучения"
      ]
    },
    {
      "cell_type": "code",
      "metadata": {
        "id": "yJDVohCx1Mkm"
      },
      "source": [
        "class Train_Dataset(torch.utils.data.Dataset):\n",
        "    def __init__(self, encodings):\n",
        "        self.encodings = encodings\n",
        "    def __getitem__(self, idx):\n",
        "        return {key: torch.tensor(val[idx]) for key, val in self.encodings.items()}\n",
        "    def __len__(self):\n",
        "        return len(self.encodings.input_ids)"
      ],
      "execution_count": 5,
      "outputs": []
    },
    {
      "cell_type": "markdown",
      "metadata": {
        "id": "1PyXmDroOGud"
      },
      "source": [
        "## Тренировочная петля"
      ]
    },
    {
      "cell_type": "code",
      "metadata": {
        "id": "c1MqPIppxQSK"
      },
      "source": [
        "def training_loop(model, dataloader, optimizer, epochs, device):\n",
        "  for epoch in range(epochs):\n",
        "      loop = tqdm(dataloader, leave=True)\n",
        "      for batch in loop:\n",
        "          optimizer.zero_grad()\n",
        "          input_ids = batch['input_ids'].to(device)\n",
        "          attention_mask = batch['attention_mask'].to(device)\n",
        "          labels = batch['labels'].to(device)\n",
        "\n",
        "          outputs = model(input_ids, attention_mask=attention_mask,\n",
        "                        labels=labels)\n",
        "          loss = outputs.loss\n",
        "\n",
        "          loss.backward()\n",
        "          optimizer.step()\n",
        "\n",
        "          loop.set_description(f'Epoch {epoch}')\n",
        "          loop.set_postfix(loss=loss.item())\n",
        "          \n",
        "  return model\n"
      ],
      "execution_count": 6,
      "outputs": []
    },
    {
      "cell_type": "markdown",
      "metadata": {
        "id": "ziAJBh1OOLzO"
      },
      "source": [
        "## Функция обучения модели"
      ]
    },
    {
      "cell_type": "code",
      "metadata": {
        "colab": {
          "base_uri": "https://localhost:8080/"
        },
        "id": "NFwx3b-uSvrj",
        "outputId": "ec56b1ac-5de8-49fe-fc19-f3a344a4da3f"
      },
      "source": [
        "from google.colab import drive\n",
        "drive.mount('/content/drive')"
      ],
      "execution_count": 7,
      "outputs": [
        {
          "output_type": "stream",
          "text": [
            "Mounted at /content/drive\n"
          ],
          "name": "stdout"
        }
      ]
    },
    {
      "cell_type": "code",
      "metadata": {
        "id": "CMG1--VoJ1-L"
      },
      "source": [
        "def get_model(side: str, year: str):\n",
        "    \n",
        "    config = transformers.BertConfig.from_pretrained('rubert_cased_L-12_H-768_A-12_pt', output_hidden_states=True)\n",
        "    model = transformers.BertForMaskedLM.from_pretrained('rubert_cased_L-12_H-768_A-12_pt', config=config)\n",
        "\n",
        "    path = f'/content/drive/MyDrive/processed/{side}_{year}.txt'\n",
        "    with open(path, 'r', encoding='utf-8') as file:\n",
        "        text = file.read()\n",
        "\n",
        "\n",
        "    inputs = preproc(text)\n",
        "    dataset = Train_Dataset(inputs)\n",
        "    dataloader = torch.utils.data.DataLoader(dataset, batch_size=16, shuffle=True) \n",
        "\n",
        "    device = torch.device('cuda') if torch.cuda.is_available() else torch.device('cpu')\n",
        "    model.to(device)\n",
        "    model.train()\n",
        "    lr = 5e-5\n",
        "    optimizer = AdamW(model.parameters(), lr=lr, correct_bias=False)\n",
        "    epochs = 1\n",
        "\n",
        "    model = training_loop(model, dataloader, optimizer, epochs, device)\n",
        "\n",
        "    return model\n"
      ],
      "execution_count": 8,
      "outputs": []
    },
    {
      "cell_type": "markdown",
      "metadata": {
        "id": "qEt8NTyVOU4z"
      },
      "source": [
        "## Обучала я в итоге по одной, не циклом"
      ]
    },
    {
      "cell_type": "code",
      "metadata": {
        "colab": {
          "base_uri": "https://localhost:8080/",
          "height": 239,
          "referenced_widgets": [
            "1653f721fa6748f594e72fca90dbf09e",
            "16aec77188a94f519c2658c73af6c730",
            "2544b7d6e0574520abbcc0ab12da9dba",
            "b6c81ba2a33c469e9457466ce9bd3cba",
            "3f65c1e9568e40f09ca1f69fb9a8246b",
            "798b9c5f0f6449929998ad27f926a510",
            "ce02b7e80245456a87a8d0b2225b19e5",
            "57b3d5fef7a44705904eaa5019cc89a4",
            "5664da86668a49989ca8842eb5006444",
            "566d7019cffc4aaba3479bfa7afeadff",
            "fd7bf772910b4650a4eed6c4a2a8686c",
            "b2d3767c0e6942a2a6a058f28d085321",
            "c3bd2e5c7e2b401e8489412a4c6752ae",
            "e65421092e5f4601b61f1320fbccbd50",
            "b55b4f6dd9bb4bb2bd38309d2ce7942f",
            "4e5d745e376748b28843c893c97ffa5c"
          ]
        },
        "id": "8Niz56hPGPg0",
        "outputId": "8d116d9b-72e2-4746-9a06-7c8ec83dd701"
      },
      "source": [
        "periods = ['2015', '2016', '2017', '2018', '2019']\n",
        "\n",
        "print('Training loyal models...')\n",
        "loyal_dict = {}\n",
        "loyal_dict[2017] = get_model('loyal', 2017)\n"
      ],
      "execution_count": 28,
      "outputs": [
        {
          "output_type": "stream",
          "text": [
            "Training loyal models...\n"
          ],
          "name": "stdout"
        },
        {
          "output_type": "stream",
          "text": [
            "Some weights of the model checkpoint at rubert_cased_L-12_H-768_A-12_pt were not used when initializing BertForMaskedLM: ['cls.seq_relationship.bias', 'cls.seq_relationship.weight']\n",
            "- This IS expected if you are initializing BertForMaskedLM from the checkpoint of a model trained on another task or with another architecture (e.g. initializing a BertForSequenceClassification model from a BertForPreTraining model).\n",
            "- This IS NOT expected if you are initializing BertForMaskedLM from the checkpoint of a model that you expect to be exactly identical (initializing a BertForSequenceClassification model from a BertForSequenceClassification model).\n"
          ],
          "name": "stderr"
        },
        {
          "output_type": "display_data",
          "data": {
            "application/vnd.jupyter.widget-view+json": {
              "model_id": "1653f721fa6748f594e72fca90dbf09e",
              "version_minor": 0,
              "version_major": 2
            },
            "text/plain": [
              "HBox(children=(FloatProgress(value=0.0, max=56428.0), HTML(value='')))"
            ]
          },
          "metadata": {
            "tags": []
          }
        },
        {
          "output_type": "stream",
          "text": [
            "\n"
          ],
          "name": "stdout"
        },
        {
          "output_type": "display_data",
          "data": {
            "application/vnd.jupyter.widget-view+json": {
              "model_id": "5664da86668a49989ca8842eb5006444",
              "version_minor": 0,
              "version_major": 2
            },
            "text/plain": [
              "HBox(children=(FloatProgress(value=0.0, max=3527.0), HTML(value='')))"
            ]
          },
          "metadata": {
            "tags": []
          }
        },
        {
          "output_type": "stream",
          "text": [
            "/usr/local/lib/python3.7/dist-packages/ipykernel_launcher.py:5: UserWarning: To copy construct from a tensor, it is recommended to use sourceTensor.clone().detach() or sourceTensor.clone().detach().requires_grad_(True), rather than torch.tensor(sourceTensor).\n",
            "  \"\"\"\n"
          ],
          "name": "stderr"
        },
        {
          "output_type": "stream",
          "text": [
            "\n"
          ],
          "name": "stdout"
        }
      ]
    },
    {
      "cell_type": "code",
      "metadata": {
        "id": "pLOqgdwl3Wqi"
      },
      "source": [
        "village_2019 = loyal_dict[2019]\n",
        "torch.save(village_2019, '/content/drive/MyDrive/models/village_2019.model')"
      ],
      "execution_count": 29,
      "outputs": []
    },
    {
      "cell_type": "markdown",
      "metadata": {
        "id": "ho_70T1JOchD"
      },
      "source": [
        "## Загружаем модели"
      ]
    },
    {
      "cell_type": "markdown",
      "metadata": {
        "id": "CBNpdDG3Ogqp"
      },
      "source": [
        "за 2019 год плохо обучилась "
      ]
    },
    {
      "cell_type": "code",
      "metadata": {
        "id": "h51icypqcxvI"
      },
      "source": [
        "model_2018 = torch.load('/content/drive/MyDrive/models/loyal_2018.model')\n",
        "model_2017 = torch.load('/content/drive/MyDrive/models/loyal_2017.model')\n",
        "model_2016 = torch.load('/content/drive/MyDrive/models/loyal_2016.model')\n",
        "model_2015 = torch.load('/content/drive/MyDrive/models/loyal_2015.model')"
      ],
      "execution_count": 10,
      "outputs": []
    },
    {
      "cell_type": "code",
      "metadata": {
        "id": "FPGdGBrzPn6S"
      },
      "source": [
        "model_2017_opp = torch.load('/content/drive/MyDrive/models/opp_2017.model')\n",
        "model_2016_opp = torch.load('/content/drive/MyDrive/models/opp_2016.model')\n",
        "model_2015_opp = torch.load('/content/drive/MyDrive/models/opp_2015.model')"
      ],
      "execution_count": 44,
      "outputs": []
    },
    {
      "cell_type": "code",
      "metadata": {
        "id": "LE2k-QdncDJD"
      },
      "source": [
        "village_2019 = torch.load('/content/drive/MyDrive/models/village_2019.model')"
      ],
      "execution_count": 12,
      "outputs": []
    },
    {
      "cell_type": "code",
      "metadata": {
        "id": "wGomndb_bhxa"
      },
      "source": [
        "lenta_2019 = torch.load('/content/drive/MyDrive/models/lenta_2019.model')"
      ],
      "execution_count": 13,
      "outputs": []
    },
    {
      "cell_type": "markdown",
      "metadata": {
        "id": "5Uqtg_KuOqe-"
      },
      "source": [
        "## Поиграться"
      ]
    },
    {
      "cell_type": "code",
      "metadata": {
        "id": "VjgRX9AYPl18"
      },
      "source": [
        "tokenizer = transformers.BertTokenizerFast.from_pretrained('rubert_cased_L-12_H-768_A-12_pt')\n",
        "device = torch.device('cuda') if torch.cuda.is_available() else torch.device('cpu')\n",
        "def get_bert_substs(text, model):\n",
        "    text_encoded = tokenizer.encode(text, return_tensors=\"pt\").to(device)\n",
        "    pos = [i for i in range(len(text_encoded[0])) if text_encoded[0][i] == 103]\n",
        "    model_pred = model(text_encoded, return_dict=True)\n",
        "    indices = model_pred.logits.topk(6).indices[0][pos]\n",
        "    substs = tokenizer.convert_ids_to_tokens(indices.flatten().tolist())\n",
        "    return substs\n",
        "\n"
      ],
      "execution_count": 86,
      "outputs": []
    },
    {
      "cell_type": "code",
      "metadata": {
        "id": "mV75Z38pivxz"
      },
      "source": [
        "for mod, name in zip([model_2015, model_2016, model_2017,\n",
        "            model_2018, model_2015_opp, model_2016_opp,\n",
        "            model_2017_opp, lenta_2019, village_2019], ['loyal_2015', 'loyal_2016', \n",
        "            'loyal_2017', 'loyal_2018', 'opp_2015', 'opp_2016', 'opp_2017', 'lenta_2019', 'village_2019']):\n",
        "\n",
        "  print(name, get_bert_substs(\"В России продолжается скандал с [MASK].\", mod))"
      ],
      "execution_count": null,
      "outputs": []
    },
    {
      "cell_type": "code",
      "metadata": {
        "colab": {
          "base_uri": "https://localhost:8080/"
        },
        "id": "t6lgnewqiILQ",
        "outputId": "4340e09e-57c8-4bed-ab05-6bfa00cc7d8d"
      },
      "source": [
        "for mod, name in zip([model_2015, model_2016, model_2017,\n",
        "            model_2018, model_2015_opp, model_2016_opp,\n",
        "            model_2017_opp, lenta_2019, village_2019], ['loyal_2015', 'loyal_2016', \n",
        "            'loyal_2017', 'loyal_2018', 'opp_2015', 'opp_2016', 'opp_2017', 'lenta_2019', 'village_2019']):\n",
        "\n",
        "  print(name, get_bert_substs(\"В России продолжаются уголовные преследования [MASK].\", mod))"
      ],
      "execution_count": 145,
      "outputs": [
        {
          "output_type": "stream",
          "text": [
            "loyal_2015 ['дело', 'человек', 'гражданин', 'россиянин', 'женщина', 'лицо']\n",
            "loyal_2016 ['мужчина', 'год', 'человек', 'ст', 'подозревать', 'задержать']\n",
            "loyal_2017 ['коррупция', 'кража', 'человек', 'обвинять', 'против', 'подозревать']\n",
            "loyal_2018 ['год', 'дело', 'см', 'р', 'вв', 'г']\n",
            "opp_2015 ['ст', 'отношение', 'подозревать', 'г', 'россия', 'р']\n",
            "opp_2016 ['россия', 'женщина', 'коррупция', 'человек', 'иностранец', 'год']\n",
            "opp_2017 ['человек', 'коррупция', 'гражданин', 'грабеж', 'мошенничество', 'вымогательство']\n",
            "lenta_2019 ['чиновников', 'банды', 'задержанных', 'осужденных', 'лиц', 'журналистов']\n",
            "village_2019 ['оппозиционеров', 'россиян', 'политзаключенных', 'заключенных', 'осужденных', 'преступников']\n"
          ],
          "name": "stdout"
        }
      ]
    },
    {
      "cell_type": "code",
      "metadata": {
        "colab": {
          "base_uri": "https://localhost:8080/"
        },
        "id": "Wfll-jI0TfpQ",
        "outputId": "e521699f-c06d-4f1c-83d3-fe77a76bd5ce"
      },
      "source": [
        "for mod, name in zip([model_2015, model_2016, model_2017,\n",
        "            model_2018, model_2015_opp, model_2016_opp,\n",
        "            model_2017_opp, lenta_2019, village_2019], ['loyal_2015', 'loyal_2016', \n",
        "            'loyal_2017', 'loyal_2018', 'opp_2015', 'opp_2016', 'opp_2017', 'lenta_2019', 'village_2019']):\n",
        "\n",
        "  print(name, get_bert_substs(\"В России продолжаются преследования [MASK].\", mod))\n"
      ],
      "execution_count": 138,
      "outputs": [
        {
          "output_type": "stream",
          "text": [
            "loyal_2015 ['человек', 'ребенок', 'преступник', 'медведь', 'автомобиль', 'россиянин']\n",
            "loyal_2016 ['человек', 'преступник', 'мужчина', 'ребенок', 'подозревать', 'женщина']\n",
            "loyal_2017 ['подозревать', 'коррупция', 'террорист', 'боевик', 'человек', 'россия']\n",
            "loyal_2018 ['год', 'человек', 'полиция', 'суд', 'мужчина', 'обвинение']\n",
            "opp_2015 ['р', 'россия', 'ст', 'обвинять', 'подозревать', 'задержать']\n",
            "opp_2016 ['страна', 'человек', 'россия', 'иностранец', 'воина', 'запад']\n",
            "opp_2017 ['человек', 'геев', 'коррупция', 'гражданин', 'год', 'задержать']\n",
            "lenta_2019 ['животных', 'биатлонистов', 'россиян', 'пилотов', 'геев', 'спортсменов']\n",
            "village_2019 ['оппозиционеров', 'россиян', 'политзаключенных', 'активистов', 'протестующих', 'заключенных']\n"
          ],
          "name": "stdout"
        }
      ]
    },
    {
      "cell_type": "code",
      "metadata": {
        "colab": {
          "base_uri": "https://localhost:8080/"
        },
        "id": "Q0G-eWHT7m7T",
        "outputId": "01472b9f-0e46-497e-8c7c-a9e9acd88a5f"
      },
      "source": [
        "tokenizer = transformers.BertTokenizerFast.from_pretrained('rubert_cased_L-12_H-768_A-12_pt')\n",
        "device = torch.device('cuda') if torch.cuda.is_available() else torch.device('cpu')\n",
        "village_2019.to(device)\n",
        "def get_bert_substs(text):\n",
        "    text_encoded = tokenizer.encode(text, return_tensors=\"pt\").to(device)\n",
        "    pos = [i for i in range(len(text_encoded[0])) if text_encoded[0][i] == 103]\n",
        "    model_pred = model_2017(text_encoded, return_dict=True)\n",
        "    indices = model_pred.logits.topk(10).indices[0][pos]\n",
        "    substs = tokenizer.convert_ids_to_tokens(indices.flatten().tolist())\n",
        "    return substs\n",
        "\n",
        "print(get_bert_substs(\"Основатель Вконтакте Павел [MASK] ушел с поста генерального директора.\"))"
      ],
      "execution_count": 48,
      "outputs": [
        {
          "output_type": "stream",
          "text": [
            "['песок', 'морозов', 'романов', 'также', 'орлов', 'киров', 'сын', 'белов', 'это', 'виктор']\n"
          ],
          "name": "stdout"
        }
      ]
    },
    {
      "cell_type": "markdown",
      "metadata": {
        "id": "91wSAbfA4J0n"
      },
      "source": [
        "## не нужно\n"
      ]
    },
    {
      "cell_type": "code",
      "metadata": {
        "id": "mUyxTilR3bL7"
      },
      "source": [
        "batches = []\n",
        "for batch_hs in hidden_states_las_epoch:  #состакаем по слоям\n",
        "  token_embeddings = torch.stack(batch_hs, dim=0)\n",
        "  batches.append(token_embeddings)"
      ],
      "execution_count": null,
      "outputs": []
    },
    {
      "cell_type": "code",
      "metadata": {
        "id": "Lf-0sU-wXQ3u"
      },
      "source": [
        ""
      ],
      "execution_count": null,
      "outputs": []
    },
    {
      "cell_type": "code",
      "metadata": {
        "colab": {
          "base_uri": "https://localhost:8080/"
        },
        "id": "-QOOjSUexQUz",
        "outputId": "38c66437-a7fc-470a-a8b4-435d2ffa5173"
      },
      "source": [
        "token_embeddings = torch.cat(batches, dim=1) #объединим последовательно батчи\n",
        "token_embeddings.shape\n"
      ],
      "execution_count": null,
      "outputs": [
        {
          "output_type": "execute_result",
          "data": {
            "text/plain": [
              "torch.Size([13, 54, 87, 768])"
            ]
          },
          "metadata": {
            "tags": []
          },
          "execution_count": 110
        }
      ]
    },
    {
      "cell_type": "code",
      "metadata": {
        "colab": {
          "base_uri": "https://localhost:8080/"
        },
        "id": "4eLOYa0IxYMT",
        "outputId": "2249b36f-f2a4-4bf9-d730-f6dfb75fff88"
      },
      "source": [
        "embs = torch.sum(token_embeddings[-4:], dim=0)  #возьмем сумму векторов последних четырех слоев\n",
        "\n",
        "embs.shape #54 предложения, в котором 87 токенов, каждый кодируется 768 фичами"
      ],
      "execution_count": null,
      "outputs": [
        {
          "output_type": "execute_result",
          "data": {
            "text/plain": [
              "torch.Size([54, 87, 768])"
            ]
          },
          "metadata": {
            "tags": []
          },
          "execution_count": 111
        }
      ]
    },
    {
      "cell_type": "code",
      "metadata": {
        "id": "8_gIQw-I0LN4",
        "colab": {
          "base_uri": "https://localhost:8080/"
        },
        "outputId": "58b5fe18-6d15-464c-dc85-611a1817c76d"
      },
      "source": [
        "all_embs_l = []  \n",
        "for e in embs:\n",
        "  all_embs_l.append(e)  #сделаем список по предложениям\n",
        "all_embs = torch.cat(all_embs_l, dim=0) #конкатенируем все предложения в один длинный текст\n",
        "all_embs.shape   #4698 токенов "
      ],
      "execution_count": null,
      "outputs": [
        {
          "output_type": "execute_result",
          "data": {
            "text/plain": [
              "torch.Size([4698, 768])"
            ]
          },
          "metadata": {
            "tags": []
          },
          "execution_count": 116
        }
      ]
    },
    {
      "cell_type": "code",
      "metadata": {
        "id": "K5Lo3EHWg8ZI"
      },
      "source": [
        ""
      ],
      "execution_count": null,
      "outputs": []
    }
  ]
}
